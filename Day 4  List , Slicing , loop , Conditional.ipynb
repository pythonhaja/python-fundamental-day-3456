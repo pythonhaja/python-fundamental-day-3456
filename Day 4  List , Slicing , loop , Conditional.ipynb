{
 "cells": [
  {
   "cell_type": "code",
   "execution_count": 22,
   "id": "7b9dcac1",
   "metadata": {},
   "outputs": [
    {
     "name": "stdout",
     "output_type": "stream",
     "text": [
      "['Naveen', 'Karanthi', 'Hameed', 'John', 'Farheen', 'Swetha']\n",
      "Karanthi\n",
      "John\n",
      "John\n",
      "['Naveen', 'Karanthi', 'Hameed', 'John', 'Farheen', 'Swetha', 'rafi']\n",
      "Students\n",
      "['Athira', 'Karanthi', 'Hameed', 'Namitha', 'Farheen', 'Swetha', 'rafi', 'athi']\n",
      "['Athira', 'Deepa', 'Hameed', 'Namitha', 'Farheen', 'Swetha', 'rafi', 'athi']\n",
      "['Athira', 'Deepa', 'Namitha', 'Farheen', 'Swetha', 'rafi', 'athi']\n"
     ]
    }
   ],
   "source": [
    "#Day: 4\n",
    "\n",
    "Students =['Naveen','Karanthi','Hameed','John','Farheen','Swetha']\n",
    "print(Students)\n",
    "type(Students)\n",
    "print(Students[1])\n",
    "print(Students[3])\n",
    "print(Students[3].title())\n",
    "# I want to add the rafi to the above list \n",
    "Students.append('rafi')\n",
    "print(Students)\n",
    "Students.append('athi')\n",
    "print('Students')\n",
    "# modify the List \n",
    "Students[3]= 'Namitha'\n",
    "Students[0] = 'Athira'\n",
    "print(Students)\n",
    "Students[1]='Deepa'\n",
    "print(Students)\n",
    "del Students[2]\n",
    "print(Students)"
   ]
  },
  {
   "cell_type": "code",
   "execution_count": 37,
   "id": "2b7d45ff",
   "metadata": {},
   "outputs": [
    {
     "name": "stdout",
     "output_type": "stream",
     "text": [
      "['kia', 'benz', 'Audi', 'Suzki', 'Maruthi']\n",
      "['Audi', 'Maruthi', 'Suzki', 'benz', 'kia']\n",
      "['Audi', 'Maruthi', 'Suzki', 'benz', 'kia']\n",
      "['kia', 'benz', 'Suzki', 'Maruthi', 'Audi']\n"
     ]
    },
    {
     "data": {
      "text/plain": [
       "5"
      ]
     },
     "execution_count": 37,
     "metadata": {},
     "output_type": "execute_result"
    }
   ],
   "source": [
    "# Organising the list data type\n",
    "Cars=['kia','benz','Audi','Suzki','Maruthi']\n",
    "print(Cars)\n",
    "type(Cars)\n",
    "print(sorted(Cars))  # Temparay approach \n",
    "Cars.sort()\n",
    "print(Cars)      # Permanent approach \n",
    "\n",
    "# Find the String in reserve order \n",
    "Cars.reverse()\n",
    "print(Cars)\n",
    "# find the len \n",
    "len(Cars)"
   ]
  },
  {
   "cell_type": "code",
   "execution_count": 52,
   "id": "368d4a31",
   "metadata": {},
   "outputs": [
    {
     "name": "stdout",
     "output_type": "stream",
     "text": [
      "['carrot', 'califlower', 'cucumber', 'beans']\n",
      "['carrot', 'califlower', 'cucumber', 'beans', 'papaya']\n",
      "['beans', 'califlower', 'carrot', 'cucumber', 'papaya']\n",
      "['beans', 'califlower', 'carrot', 'cucumber', 'papaya']\n",
      "['papaya', 'cucumber', 'carrot', 'califlower', 'beans']\n"
     ]
    }
   ],
   "source": [
    "# Organising the list data type  Excercise : 2\n",
    "\n",
    "Veg=['carrot', 'califlower','cucumber','beans']\n",
    "print (Veg)\n",
    "Veg.append('papaya')\n",
    "print(Veg)\n",
    "type(Veg)\n",
    "print(sorted(Veg))\n",
    "Veg.sort()\n",
    "print(Veg)\n",
    "len(Veg)\n",
    "Veg.reverse()\n",
    "print(Veg)"
   ]
  },
  {
   "cell_type": "code",
   "execution_count": 6,
   "id": "97842b6b",
   "metadata": {},
   "outputs": [
    {
     "name": "stdout",
     "output_type": "stream",
     "text": [
      "['suveditha', 'farheen', 'kumar', 'imran', 'surya', 'Hameed']\n",
      "['suveditha']\n",
      "['suveditha', 'farheen']\n",
      "['kumar', 'imran']\n",
      "['surya', 'Hameed']\n",
      "['kumar', 'imran']\n",
      "['surya', 'Hameed']\n",
      "['suveditha', 'kumar', 'surya']\n",
      "['suveditha', 'farheen', 'kumar', 'imran', 'surya', 'Hameed']\n"
     ]
    }
   ],
   "source": [
    "# String Slicing \n",
    "Students = ['suveditha','farheen','kumar','imran','surya','Hameed']\n",
    "print(Students)\n",
    "print(Students[0:1])\n",
    "print(Students[0:2])\n",
    "print(Students[2:4])\n",
    "print(Students[4:6])\n",
    "print(Students[2:4])\n",
    "print (Students[4:6])\n",
    "print(Students[0:6:2])\n",
    "print(Students)"
   ]
  },
  {
   "cell_type": "code",
   "execution_count": 9,
   "id": "791c7070",
   "metadata": {},
   "outputs": [
    {
     "name": "stdout",
     "output_type": "stream",
     "text": [
      "me\n",
      "thing\n"
     ]
    }
   ],
   "source": [
    "# Slicing  Exercise :2\n",
    "string = \"something\"\n",
    "print(string[2:4])\n",
    "print(string[4:])\n",
    "print()"
   ]
  },
  {
   "cell_type": "code",
   "execution_count": 37,
   "id": "7f595c51",
   "metadata": {},
   "outputs": [
    {
     "name": "stdout",
     "output_type": "stream",
     "text": [
      "['Maruthi', 'kia', 'bmw', 'audi', 'benz']\n",
      "Maruthi\n",
      "Kia\n",
      "BMW\n",
      "Audi\n",
      "Benz\n"
     ]
    }
   ],
   "source": [
    "\n",
    "Cars=['Maruthi','kia','bmw','audi','benz']\n",
    "print(Cars)\n",
    "for x in Cars:\n",
    "    if x=='bmw':\n",
    "       print(x.upper())\n",
    "    else:\n",
    "        print(x.title())"
   ]
  },
  {
   "cell_type": "code",
   "execution_count": 2,
   "id": "b8e0bf81",
   "metadata": {},
   "outputs": [
    {
     "name": "stdout",
     "output_type": "stream",
     "text": [
      " keep up the good work,Suveditha\n",
      " keep up the good work,Farheen\n",
      " keep up the good work,Kumar\n",
      " keep up the good work,Imran\n",
      " keep up the good work,Surya\n",
      " keep up the good work,Hameed\n",
      " Keep up the good work,Suveditha\n",
      " Keep up the good work,Farheen\n",
      " Keep up the good work,Kumar\n",
      " Keep up the good work,Imran\n",
      " Keep up the good work,Surya\n",
      " Keep up the good work,Hameed\n",
      "keep up the good work,<built-in method title of str object at 0x000001E42F27A9F0>\n",
      " please do send me the practice file of today,Suveditha\n",
      "keep up the good work,<built-in method title of str object at 0x000001E42F27A970>\n",
      " please do send me the practice file of today,Farheen\n",
      "keep up the good work,<built-in method title of str object at 0x000001E42F27A8B0>\n",
      " please do send me the practice file of today,Kumar\n",
      "keep up the good work,<built-in method title of str object at 0x000001E42F27ABF0>\n",
      " please do send me the practice file of today,Imran\n",
      "keep up the good work,<built-in method title of str object at 0x000001E42F27AC30>\n",
      " please do send me the practice file of today,Surya\n",
      "keep up the good work,<built-in method title of str object at 0x000001E42F27AD30>\n",
      " please do send me the practice file of today,Hameed\n",
      " keep up the good work,Suveditha\n",
      "please  do send me the practice file of  today,Suveditha.\n",
      "\n",
      " keep up the good work,Farheen\n",
      "please  do send me the practice file of  today,Farheen.\n",
      "\n",
      " keep up the good work,Kumar\n",
      "please  do send me the practice file of  today,Kumar.\n",
      "\n",
      " keep up the good work,Imran\n",
      "please  do send me the practice file of  today,Imran.\n",
      "\n",
      " keep up the good work,Surya\n",
      "please  do send me the practice file of  today,Surya.\n",
      "\n",
      " keep up the good work,Hameed\n",
      "please  do send me the practice file of  today,Hameed.\n",
      "\n",
      "Thank you all for sharing the interest to learn python\n"
     ]
    }
   ],
   "source": [
    "Students = ['suveditha','farheen','kumar','imran','surya','Hameed']\n",
    "for x in Students:\n",
    "    print(f\" keep up the good work,{x.title()}\")\n",
    "for imran in Students:\n",
    "    print(f\" Keep up the good work,{imran.title()}\")\n",
    "    \n",
    "for x in Students:\n",
    "    print(f\"keep up the good work,{x.title}\")\n",
    "    print(f\" please do send me the practice file of today,{x.title()}\")\n",
    "        \n",
    "              \n",
    "for x in Students:\n",
    "    print(f\" keep up the good work,{x.title()}\")\n",
    "    print(f\"please  do send me the practice file of  today,{x.title()}.\\n\")  \n",
    "print(\"Thank you all for sharing the interest to learn python\")\n",
    "\n",
    "              "
   ]
  },
  {
   "cell_type": "code",
   "execution_count": 4,
   "id": "ab48b63c",
   "metadata": {},
   "outputs": [
    {
     "name": "stdout",
     "output_type": "stream",
     "text": [
      "['Maruthi', 'kia', 'bmw', 'audi', 'benz']\n",
      "Maruthi\n",
      "Kia\n",
      "BMW\n",
      "Audi\n",
      "Benz\n"
     ]
    }
   ],
   "source": [
    "Cars=['Maruthi','kia','bmw','audi','benz']\n",
    "print(Cars)\n",
    "for x in Cars:\n",
    "    if x=='bmw':\n",
    "        print(x.upper())\n",
    "    else:\n",
    "        print(x.title())"
   ]
  },
  {
   "cell_type": "code",
   "execution_count": 47,
   "id": "1918df33",
   "metadata": {},
   "outputs": [
    {
     "name": "stdout",
     "output_type": "stream",
     "text": [
      "['Maruthi', 'kia', 'bmw', 'audi', 'benz']\n",
      "Maruthi\n",
      "Kia\n",
      "BMW\n",
      "Audi\n",
      "Benz\n"
     ]
    }
   ],
   "source": [
    "Cars=['Maruthi','kia','bmw','audi','benz']\n",
    "print(Cars)\n",
    "for x in Cars:\n",
    "    if x=='bmw':\n",
    "       print(x.upper())\n",
    "    else:\n",
    "        print(x.title())"
   ]
  },
  {
   "cell_type": "code",
   "execution_count": 5,
   "id": "e7691486",
   "metadata": {},
   "outputs": [
    {
     "name": "stdout",
     "output_type": "stream",
     "text": [
      "Tell me something and I will repeat it back for youHi how are you\n",
      "Hi how are you\n"
     ]
    }
   ],
   "source": [
    "message = input(\"Tell me something and I will repeat it back for you\")\n",
    "print(message)\n",
    "              "
   ]
  },
  {
   "cell_type": "code",
   "execution_count": 7,
   "id": "2c7b1f04",
   "metadata": {},
   "outputs": [
    {
     "name": "stdout",
     "output_type": "stream",
     "text": [
      "please enter your full name:Mohammed \n",
      "Hello weclome to Pycloud site,Mohammed \n"
     ]
    }
   ],
   "source": [
    "# Greeting user\n",
    "prompt = input(\"please enter your full name:\")\n",
    "print(f\"Hello weclome to Pycloud site,{prompt}\")"
   ]
  },
  {
   "cell_type": "code",
   "execution_count": null,
   "id": "caae05a3",
   "metadata": {},
   "outputs": [],
   "source": [
    "age = input(\"please enter your age:\")\n",
    "print(age)\n",
    "if age>=18\n",
    "  print(\"you are eligible to vote\")\n",
    "else: \n",
    "    print(\"you are not eligible\")"
   ]
  },
  {
   "cell_type": "code",
   "execution_count": null,
   "id": "68b3f547",
   "metadata": {},
   "outputs": [],
   "source": [
    "#Building a simple Voting applications\n",
    "age=input(\"Please enter your age:\")\n",
    "age=int(age)\n",
    "if age>=18:\n",
    "    print(\"you are eligible to vote\")\n",
    "else:\n",
    "    print(\"you are not eligible to vote\")\n",
    "\n"
   ]
  },
  {
   "cell_type": "code",
   "execution_count": null,
   "id": "ad53a613",
   "metadata": {},
   "outputs": [],
   "source": []
  },
  {
   "cell_type": "code",
   "execution_count": null,
   "id": "1c9250ee",
   "metadata": {},
   "outputs": [],
   "source": []
  }
 ],
 "metadata": {
  "kernelspec": {
   "display_name": "Python 3",
   "language": "python",
   "name": "python3"
  },
  "language_info": {
   "codemirror_mode": {
    "name": "ipython",
    "version": 3
   },
   "file_extension": ".py",
   "mimetype": "text/x-python",
   "name": "python",
   "nbconvert_exporter": "python",
   "pygments_lexer": "ipython3",
   "version": "3.8.8"
  }
 },
 "nbformat": 4,
 "nbformat_minor": 5
}
